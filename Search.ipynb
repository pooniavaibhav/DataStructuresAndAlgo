{
 "cells": [
  {
   "cell_type": "markdown",
   "id": "16a93c94",
   "metadata": {},
   "source": [
    "Question: Alice has some cards with numbers written on them.She arranges the cards in a decreasing order and lays out face down in a sequence on a table.She challenges Bob to pick out the card containing a given number by turning over as few cards as possible.Write a function to help Bob locate the card."
   ]
  },
  {
   "cell_type": "markdown",
   "id": "21208584",
   "metadata": {},
   "source": [
    "## Linear Search"
   ]
  },
  {
   "cell_type": "code",
   "execution_count": 17,
   "id": "b28a066e",
   "metadata": {},
   "outputs": [],
   "source": [
    "test_case = {'input':{'cards': [13,11,10,7,4,3,1,0],\n",
    "                     'query': 8},\n",
    "            'output': -1}"
   ]
  },
  {
   "cell_type": "code",
   "execution_count": 20,
   "id": "0bc4d9c2",
   "metadata": {},
   "outputs": [],
   "source": [
    "def find_card_linear(cards, query):\n",
    "    position = 0\n",
    "    \n",
    "    while position < len(cards):\n",
    "        if cards[position] == query:\n",
    "            return position\n",
    "        position+=1\n",
    "    return -1"
   ]
  },
  {
   "cell_type": "code",
   "execution_count": 21,
   "id": "59c4d83a",
   "metadata": {},
   "outputs": [
    {
     "data": {
      "text/plain": [
       "True"
      ]
     },
     "execution_count": 21,
     "metadata": {},
     "output_type": "execute_result"
    }
   ],
   "source": [
    "find_card_linear(**test_case['input']) == test_case['output']"
   ]
  },
  {
   "cell_type": "markdown",
   "id": "da82e75f",
   "metadata": {},
   "source": [
    "The time complexity of a linear search is O(N) and its space complexity is O(1)."
   ]
  },
  {
   "cell_type": "markdown",
   "id": "1b8b72ef",
   "metadata": {},
   "source": [
    "## Binary Search"
   ]
  },
  {
   "cell_type": "markdown",
   "id": "d7222c05",
   "metadata": {},
   "source": [
    "Binary Search is defined as a searching algorithm used in a sorted array by repeatedly dividing the search interval in half. \n",
    "* Find the middle element in the list.\n",
    "* If it matches queried number, return the position as the answer.\n",
    "* It is is less than the queried number then search the first half of the list.\n",
    "* If it is greater than the queried number then search the second half of the list.\n",
    "* If no more elements remain, return -1 "
   ]
  },
  {
   "cell_type": "code",
   "execution_count": 2,
   "id": "06e8f5a0",
   "metadata": {},
   "outputs": [],
   "source": [
    "def find_card_binary(cards, query):\n",
    "    start_index = 0\n",
    "    end_index = len(cards) - 1\n",
    "    while True:\n",
    "        middle_index = (start_index + end_index) // 2\n",
    "        print(start_index, end_index, middle_index)\n",
    "        if cards[middle_index] == query:\n",
    "            return middle_index\n",
    "        if cards[middle_index] > query:\n",
    "            # consider right of the list\n",
    "            start_index = middle_index + 1\n",
    "        if cards[middle_index] < query:\n",
    "            # consider left of the list\n",
    "            end_index = middle_index - 1\n",
    "    return -1"
   ]
  },
  {
   "cell_type": "code",
   "execution_count": 38,
   "id": "8aa3b635",
   "metadata": {},
   "outputs": [
    {
     "name": "stdout",
     "output_type": "stream",
     "text": [
      "0 6 3\n",
      "0 2 1\n",
      "0 0 0\n"
     ]
    },
    {
     "data": {
      "text/plain": [
       "0"
      ]
     },
     "execution_count": 38,
     "metadata": {},
     "output_type": "execute_result"
    }
   ],
   "source": [
    "find_card_binary([15,13,11,9,7,5,3], 15)"
   ]
  },
  {
   "cell_type": "markdown",
   "id": "931e1728",
   "metadata": {},
   "source": [
    "The time complexity O(log N). This fact is often stated that as binary search runs in logarithmic time. The space complexity of binary search os O(1)."
   ]
  },
  {
   "cell_type": "markdown",
   "id": "371018c3",
   "metadata": {},
   "source": [
    "## Generic Binary search Code-"
   ]
  },
  {
   "cell_type": "code",
   "execution_count": 1,
   "id": "a6029b4a",
   "metadata": {},
   "outputs": [],
   "source": [
    "def binary_search(lo, hi, condition):\n",
    "    while lo <= high:\n",
    "        mid = (lo + high) // 2\n",
    "        result = condition(mid)\n",
    "        if result == 'found':\n",
    "            return mid\n",
    "        elif result == 'left':\n",
    "            hi = mid-1\n",
    "        else:\n",
    "            lo = mid + 1\n",
    "    return -1"
   ]
  },
  {
   "cell_type": "code",
   "execution_count": null,
   "id": "55f7f30d",
   "metadata": {},
   "outputs": [],
   "source": []
  }
 ],
 "metadata": {
  "kernelspec": {
   "display_name": "Python 3 (ipykernel)",
   "language": "python",
   "name": "python3"
  },
  "language_info": {
   "codemirror_mode": {
    "name": "ipython",
    "version": 3
   },
   "file_extension": ".py",
   "mimetype": "text/x-python",
   "name": "python",
   "nbconvert_exporter": "python",
   "pygments_lexer": "ipython3",
   "version": "3.9.12"
  }
 },
 "nbformat": 4,
 "nbformat_minor": 5
}
